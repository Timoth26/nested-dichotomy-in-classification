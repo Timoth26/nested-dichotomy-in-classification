{
 "cells": [
  {
   "cell_type": "code",
   "execution_count": null,
   "metadata": {},
   "outputs": [],
   "source": [
    "import numpy as np\n",
    "import pandas as pd\n",
    "import matplotlib.pyplot as plt\n",
    "import os\n",
    "from pathlib import Path\n",
    "\n",
    "train_dir = Path('./data/train')\n",
    "train_filepaths = list(train_dir.glob(r'**/*.jpg'))\n",
    "\n",
    "test_dir = Path('./data/test')\n",
    "test_filepaths = list(test_dir.glob(r'**/*.jpg'))\n",
    "\n",
    "val_dir = Path('./data/validation')\n",
    "val_filepaths = list(val_dir.glob(r'**/*.jpg'))"
   ]
  },
  {
   "cell_type": "code",
   "execution_count": null,
   "metadata": {},
   "outputs": [],
   "source": [
    "def paths_to_dataframe(path):\n",
    "    labels = []\n",
    "    for i in range(len(path)):\n",
    "        labels.append(str(train_filepaths[i]).split(\"/\")[-2])\n",
    "\n",
    "    labels = pd.Series(labels, name='Label')\n",
    "    path = pd.Series(path, name='Path').astype(str)\n",
    "\n",
    "    df = pd.concat([path, labels], axis=1)\n",
    "\n",
    "    df = df.sample(frac=1).reset_index(drop = True)\n",
    "\n",
    "    return df\n",
    "    \n",
    "train_df = paths_to_dataframe(train_filepaths)\n",
    "test_df = paths_to_dataframe(test_filepaths)\n",
    "val_df = paths_to_dataframe(val_filepaths)\n",
    "\n",
    "test_df.head()"
   ]
  }
 ],
 "metadata": {
  "kernelspec": {
   "display_name": ".venv",
   "language": "python",
   "name": "python3"
  },
  "language_info": {
   "codemirror_mode": {
    "name": "ipython",
    "version": 3
   },
   "file_extension": ".py",
   "mimetype": "text/x-python",
   "name": "python",
   "nbconvert_exporter": "python",
   "pygments_lexer": "ipython3",
   "version": "3.11.4"
  }
 },
 "nbformat": 4,
 "nbformat_minor": 2
}
