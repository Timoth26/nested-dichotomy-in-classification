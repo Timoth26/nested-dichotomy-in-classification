{
 "cells": [
  {
   "cell_type": "markdown",
   "metadata": {},
   "source": [
    "How parameter selection affects model quality?"
   ]
  },
  {
   "cell_type": "markdown",
   "metadata": {},
   "source": [
    "#### Preproccesing"
   ]
  },
  {
   "cell_type": "code",
   "execution_count": null,
   "metadata": {},
   "outputs": [],
   "source": [
    "import os\n",
    "from pathlib import Path\n",
    "\n",
    "import matplotlib.pyplot as plt\n",
    "import numpy as np\n",
    "import pandas as pd\n",
    "from imblearn.over_sampling import SMOTE\n",
    "from sklearn.model_selection import (KFold, RandomizedSearchCV,\n",
    "                                     cross_val_score, train_test_split)\n",
    "from sklearn.tree import DecisionTreeClassifier\n",
    "\n",
    "train_dir = Path('./data/train')\n",
    "train_filepaths = list(train_dir.glob(r'**/*.jpg'))\n",
    "\n",
    "test_dir = Path('./data/test')\n",
    "test_filepaths = list(test_dir.glob(r'**/*.jpg'))\n",
    "\n",
    "val_dir = Path('./data/validation')\n",
    "val_filepaths = list(val_dir.glob(r'**/*.jpg'))\n",
    "\n",
    "aug_dir = Path('./data/augmented/')\n",
    "aug_filepaths = list(aug_dir.glob(r'**/*.jpg')) + list(aug_dir.glob(r'**/*.jpeg'))\n",
    "\n",
    "data = train_filepaths + test_filepaths + val_filepaths"
   ]
  },
  {
   "cell_type": "code",
   "execution_count": null,
   "metadata": {},
   "outputs": [],
   "source": [
    "def paths_to_dataframe(path):\n",
    "    labels = []\n",
    "    for i in range(len(path)):\n",
    "        labels.append(str(path[i]).split(os.sep)[-2])\n",
    "\n",
    "    labels = pd.Series(labels, name='Label')\n",
    "    path = pd.Series(path, name='Path').astype(str)\n",
    "\n",
    "    df = pd.concat([path, labels], axis=1)\n",
    "\n",
    "    df = df.sample(frac=1).reset_index(drop = True)\n",
    "\n",
    "    return df\n",
    "    \n",
    "data_df = paths_to_dataframe(data)"
   ]
  },
  {
   "cell_type": "code",
   "execution_count": null,
   "metadata": {},
   "outputs": [],
   "source": [
    "# aug_df = paths_to_dataframe(aug_filepaths)\n",
    "# aug_df = aug_df.sample(frac=0.1, random_state=42)"
   ]
  },
  {
   "cell_type": "code",
   "execution_count": null,
   "metadata": {},
   "outputs": [],
   "source": [
    "# data_df = pd.concat([data_df, aug_df])"
   ]
  },
  {
   "cell_type": "code",
   "execution_count": null,
   "metadata": {},
   "outputs": [],
   "source": [
    "data_df = data_df.sample(frac=1, random_state=42)\n",
    "data_df.shape"
   ]
  },
  {
   "cell_type": "code",
   "execution_count": null,
   "metadata": {},
   "outputs": [],
   "source": [
    "k = 10\n",
    "kf = KFold(n_splits=k, shuffle=True, random_state=42)\n",
    "\n",
    "X = np.array(data_df['Path'])\n",
    "y = np.array(data_df['Label'])"
   ]
  },
  {
   "cell_type": "code",
   "execution_count": null,
   "metadata": {},
   "outputs": [],
   "source": [
    "from sklearn.metrics import accuracy_score, precision_score, recall_score, f1_score, confusion_matrix, classification_report\n",
    "\n",
    "def metrics(y_test, y_pred):\n",
    "    accuracy = accuracy_score(y_test, y_pred)\n",
    "    precision = precision_score(y_test, y_pred, average='weighted')\n",
    "    recall = recall_score(y_test, y_pred, average='weighted')\n",
    "    f1 = f1_score(y_test, y_pred, average='weighted')\n",
    "\n",
    "    print(\"Accuracy: \", accuracy)\n",
    "    print(\"Precision: \", precision)\n",
    "    print(\"Recall: \", recall)\n",
    "    print(\"F1: \", f1)\n",
    "\n",
    "    classification_rep = classification_report(y_test, y_pred)\n",
    "    print(\"Classification Report:\")\n",
    "    print(classification_rep)\n",
    "\n",
    "    classes = np.unique(y_test)\n",
    "    class_accuracy = {}\n",
    "    for cls in classes:\n",
    "        indices = np.where(y_test == cls)[0]\n",
    "        class_accuracy[cls] = accuracy_score(y_test[indices], np.array(y_pred)[indices])\n",
    "\n",
    "    file_path = './wynik.txt'\n",
    "    with open(file_path, 'w') as file:\n",
    "        file.write(str(accuracy))\n",
    "        file.write(str(precision))\n",
    "\n",
    "\n",
    "    return accuracy, precision, recall, f1, class_accuracy"
   ]
  },
  {
   "cell_type": "code",
   "execution_count": null,
   "metadata": {},
   "outputs": [],
   "source": [
    "from tensorflow.keras.preprocessing import image\n",
    "from tensorflow.keras.applications.vgg16 import preprocess_input\n",
    "\n",
    "def extract_features(img_path, model):\n",
    "    img = image.load_img(img_path, target_size=(224, 224))\n",
    "    x = image.img_to_array(img)\n",
    "    x = np.expand_dims(x, axis=0)\n",
    "    x = preprocess_input(x)\n",
    "    features = model.predict(x)\n",
    "    return features.flatten()"
   ]
  },
  {
   "cell_type": "markdown",
   "metadata": {},
   "source": [
    "#### Nested Dichotomy"
   ]
  },
  {
   "cell_type": "code",
   "execution_count": null,
   "metadata": {},
   "outputs": [],
   "source": [
    "from sklearn.tree import DecisionTreeClassifier\n",
    "from imblearn.over_sampling import RandomOverSampler\n",
    "from sklearn.model_selection import GridSearchCV, RandomizedSearchCV\n",
    "from skopt import BayesSearchCV\n",
    "\n",
    "def nested_dichotomy(X_train, y_train, X_test, param_grid, method):\n",
    "    unique_labels = np.unique(y_train)\n",
    "    classifiers = []\n",
    "\n",
    "    for i in unique_labels:\n",
    "        y_binary = np.where(y_train == i, 1, 0)\n",
    "\n",
    "        balancer = RandomOverSampler(random_state=42)\n",
    "        X_train_balanced, y_train_balanced = balancer.fit_resample(X_train, y_binary)\n",
    "\n",
    "        if method == 'GridSearchCV':\n",
    "            search_method = GridSearchCV(DecisionTreeClassifier(), param_grid, cv=5, scoring='accuracy', n_jobs=-1)\n",
    "        elif method == 'RandomizedSearchCV': \n",
    "            search_method = RandomizedSearchCV(DecisionTreeClassifier(), param_distributions=param_grid, n_iter=10, cv=5, scoring='accuracy', n_jobs=-1, random_state=42)\n",
    "        elif method == 'BayesSearchCV':\n",
    "            search_method = BayesSearchCV(DecisionTreeClassifier(), param_grid, n_iter=10, cv=5, random_state=42, n_jobs=-1)\n",
    "\n",
    "        search_method.fit(X_train_balanced, y_train_balanced)\n",
    "        classifiers.append((search_method, i))\n",
    "\n",
    "        print(i)\n",
    "\n",
    "    predictions = []\n",
    "    for tree, positive_label in classifiers:\n",
    "        binary_prediction = tree.best_estimator_.predict(X_test)\n",
    "        predictions.append(np.where(binary_prediction == 1, positive_label, None))\n",
    "\n",
    "    results = ['tomato' for _ in range(len(X_test))]\n",
    "    for i in range(len(predictions)):\n",
    "        for j in range(len(X_test)):\n",
    "            if predictions[i][j] is not None:\n",
    "                results[j] = unique_labels[i]\n",
    "        \n",
    "\n",
    "    return results, predictions, classifiers"
   ]
  },
  {
   "cell_type": "code",
   "execution_count": null,
   "metadata": {},
   "outputs": [],
   "source": [
    "from imblearn.combine import SMOTETomek\n",
    "from imblearn.under_sampling import TomekLinks, RandomUnderSampler\n",
    "from imblearn.over_sampling import RandomOverSampler, SMOTE\n",
    "from tensorflow.keras.applications import MobileNetV2\n",
    "\n",
    "\n",
    "def experiment_loop():\n",
    "\n",
    "    param_grid = {\n",
    "        'criterion': ['gini', 'entropy'],\n",
    "        'splitter': ['best', 'random'],\n",
    "        'max_depth': [None, 10, 20, 30],\n",
    "        'min_samples_split': [2, 5, 10],\n",
    "        'min_samples_leaf': [1, 2, 5, 10],\n",
    "    }\n",
    "\n",
    "\n",
    "    # param_methods = [\n",
    "    # 'GridSearchCV',\n",
    "    # 'RandomizedSearchCV',\n",
    "    # 'BayesSearchCV'\n",
    "    # ]\n",
    "\n",
    "    param_methods = [\n",
    "        'RandomizedSearchCV',\n",
    "    ]\n",
    "    \n",
    "    scores = [[] for _ in range(k)]\n",
    "\n",
    "    mobilenet_model = MobileNetV2(weights='imagenet', include_top=False, pooling='avg')\n",
    "\n",
    "    for fold, (train_index, val_index) in enumerate(kf.split(X)):\n",
    "        X_train, X_val = X[train_index], X[val_index]\n",
    "        y_train, y_val = y[train_index], y[val_index]\n",
    "\n",
    "        X_train_fs = np.array([extract_features(img_path, mobilenet_model) for img_path in X_train])\n",
    "        X_val_fs = np.array([extract_features(img_path, mobilenet_model) for img_path in X_val])\n",
    "\n",
    "        for method_name in param_methods:\n",
    "            print(method_name)\n",
    "            results, pred, models = nested_dichotomy(X_train_fs, y_train, X_val_fs, param_grid, method_name)\n",
    "            accuracy, precision, recall, f1, class_accuracy = metrics(y_val, results)\n",
    "            scores[fold].append((accuracy, precision, recall, f1, class_accuracy))\n",
    "\n",
    "    return scores\n",
    "\n",
    "scores = experiment_loop()"
   ]
  }
 ],
 "metadata": {
  "kernelspec": {
   "display_name": ".venv",
   "language": "python",
   "name": "python3"
  },
  "language_info": {
   "codemirror_mode": {
    "name": "ipython",
    "version": 3
   },
   "file_extension": ".py",
   "mimetype": "text/x-python",
   "name": "python",
   "nbconvert_exporter": "python",
   "pygments_lexer": "ipython3",
   "version": "3.11.4"
  }
 },
 "nbformat": 4,
 "nbformat_minor": 2
}
